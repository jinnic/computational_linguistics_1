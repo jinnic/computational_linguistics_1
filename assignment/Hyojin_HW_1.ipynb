{
  "nbformat": 4,
  "nbformat_minor": 0,
  "metadata": {
    "colab": {
      "provenance": [],
      "authorship_tag": "ABX9TyN1j0HVk++28J8puv5vBOfg"
    },
    "kernelspec": {
      "name": "python3",
      "display_name": "Python 3"
    },
    "language_info": {
      "name": "python"
    }
  },
  "cells": [
    {
      "cell_type": "markdown",
      "source": [
        "##**1.** In a code cell, define the following variables:\n",
        "\n",
        "* name : a tuple containing your first and last names\n",
        "\n",
        "* github_username : a string containing your GitHub username"
      ],
      "metadata": {
        "id": "cXqvp__YKmJT"
      }
    },
    {
      "cell_type": "code",
      "execution_count": null,
      "metadata": {
        "colab": {
          "base_uri": "https://localhost:8080/"
        },
        "id": "y_8GHAmhKTWD",
        "outputId": "5b9bd478-3ced-482d-eae8-df635e21ace5"
      },
      "outputs": [
        {
          "output_type": "stream",
          "name": "stdout",
          "text": [
            "name: ('Hyojin', 'Yoo') github_username:  jinnic\n"
          ]
        }
      ],
      "source": [
        "# a tuple containing your first and last names\n",
        "name = (\"Hyojin\", \"Yoo\")\n",
        "\n",
        "# a string containing your GitHub username\n",
        "github_username = \"jinnic\"\n",
        "\n",
        "print('name:', name, 'github_username: ',github_username)"
      ]
    },
    {
      "cell_type": "markdown",
      "source": [
        "##**2.** The area of a circle is given by π (roughly 3.14159 ) times the squared radius. A standard\n",
        "(“12 inch”) vinyl record has a radius of roughly 6 inches. In a separate code cell, compute\n",
        "the area (in square inches) of a 12” record using the * multiplication operator. To compute\n",
        "the square of the radius, you can either use the ** exponentiation operator, or simply\n",
        "multiply the radius by itself.**"
      ],
      "metadata": {
        "id": "EHUK6h7LKjNy"
      }
    },
    {
      "cell_type": "code",
      "source": [
        "#In a separate code cell, compute the area (in square inches) of a 12” record using the * multiplication operator.\n",
        "radius = 6\n",
        "area = radius * radius * 3.14159\n",
        "print(area)\n",
        "\n",
        "area = radius ** 2 * 3.14159\n",
        "print(area)\n",
        "\n"
      ],
      "metadata": {
        "colab": {
          "base_uri": "https://localhost:8080/"
        },
        "id": "5sWYaA0LK585",
        "outputId": "38bb367f-886f-41da-9330-4f5cb480cec2"
      },
      "execution_count": null,
      "outputs": [
        {
          "output_type": "stream",
          "name": "stdout",
          "text": [
            "113.09724\n",
            "113.09724\n"
          ]
        }
      ]
    },
    {
      "cell_type": "markdown",
      "source": [
        "##**3.** Think of the names of four languages, then look up the corresponding two-character ISO 639-1 codes. For instance, the code for Estonian is “et” and the code for Fulah is “ff.” In a separate code cell, create a list containing those four two-character codes as strings and assign it to the variable lang_codes."
      ],
      "metadata": {
        "id": "ZjtvcbumNew1"
      }
    },
    {
      "cell_type": "code",
      "source": [
        "lang_codes = ['ko', 'ja', 'hi', 'ur']\n",
        "print(lang_codes)"
      ],
      "metadata": {
        "colab": {
          "base_uri": "https://localhost:8080/"
        },
        "id": "SJy-ogD3LqYB",
        "outputId": "ca832c5a-13bd-474f-d452-762f4d429e01"
      },
      "execution_count": null,
      "outputs": [
        {
          "output_type": "stream",
          "name": "stdout",
          "text": [
            "['ko', 'ja', 'hi', 'ur']\n"
          ]
        }
      ]
    },
    {
      "cell_type": "markdown",
      "source": [
        "##**4.** In a text cell, briefly describe any problems or challenges you encountered completing this assignment."
      ],
      "metadata": {
        "id": "HKPcPwzDOXV_"
      }
    },
    {
      "cell_type": "markdown",
      "source": [
        "I haven't had challenges or problems during this assignment."
      ],
      "metadata": {
        "id": "pA-Wd3ITP-Q_"
      }
    }
  ]
}
