{
  "nbformat": 4,
  "nbformat_minor": 0,
  "metadata": {
    "colab": {
      "provenance": [],
      "authorship_tag": "ABX9TyPdsHkokw4h5yxrNcJLmWrv"
    },
    "kernelspec": {
      "name": "python3",
      "display_name": "Python 3"
    },
    "language_info": {
      "name": "python"
    }
  },
  "cells": [
    {
      "cell_type": "markdown",
      "source": [
        "# 1. Vowel Counting\n",
        "\n",
        "**The following is the text of the Gettysburg Address1.**\n",
        "\n",
        "“Four score and seven years ago our fathers brought forth on this continent, a new nation, conceived in liberty, and dedicated to the proposition that all men are created equal. Now we are engaged in a great civil war, testing whether that nation, or any nation so conceived and so dedicated can long endure. We are met on a great battle-field of that war. We have come to dedicate a portion of that field, as a final resting place for those who here gave their lives that that nation might live. It is altogether fitting and proper that we should do this. But, in a larger sense, we can not dedicate—we can not consecrate—we can not hallow—this ground. The brave men, living and dead, who struggled here, have consecrated it, far above our poor power to add or detract. The world will little note, nor long remember what we say here, but it can never forget what they did here. It is for us the living, rather, to be dedicated here to the unfinished work which they who fought here have thus far so nobly advanced. It is rather for us to be here dedicated to the great task remaining before us—that from these honored dead we take increased devotion to that cause for which they gave the last full measure of devotion— that we here highly resolve that these dead shall not have died in vain—that this nation, under God, shall have a new birth of freedom—and that government of the people, by the people, for the people, shall not perish from the earth.”\n",
        "\n",
        "\n",
        "---\n",
        "\n",
        "\n",
        "### Write a code snippet which prints out the number of orthographic vowels (i.e. not including y or Y ) in this text.\n",
        "**It should work as follows:**\n",
        "1. Assign the text of the Address to a variable.\n",
        "2. Assign a list of English vowels to a variable.\n",
        "3. Define an integer counter variable with the initial count (i.e., 0).\n",
        "4. Then, use a for statement to loop over the characters in the variable from (1).\n",
        "5. For each character in the text variable defined in (1), increment the counter variable from (3) if that character is a member of the list of vowels from (2).\n",
        "\n",
        "\n",
        "\n",
        "> ## Some hints\n",
        "* You may wish to use Python’s \"triple quotes\" convention to copy the Address into a variable.\n",
        "* Don’t forget about uppercase vowels! You should count them too.\n",
        "* While of course, the Gettysburg Address is not the empty string, make sure that your for-loop solution is general enough to handle input including strings without any vowels,\n",
        "or the empty string.Add blockquote\n",
        "\n",
        "\n"
      ],
      "metadata": {
        "id": "UGG3_FTHMC8X"
      }
    },
    {
      "cell_type": "code",
      "execution_count": null,
      "metadata": {
        "colab": {
          "base_uri": "https://localhost:8080/"
        },
        "id": "woayIVnxL5Nx",
        "outputId": "0f9dc40e-26bb-493c-e315-5a59d0b41974"
      },
      "outputs": [
        {
          "output_type": "stream",
          "name": "stdout",
          "text": [
            "449\n"
          ]
        }
      ],
      "source": [
        "text = '''\n",
        "    Four score and seven years ago our fathers brought forth\n",
        "    on this continent, a new nation, conceived in liberty, and\n",
        "    dedicated to the proposition that all men are created equal.\n",
        "    Now we are engaged in a great civil war, testing\n",
        "    whether that nation, or any nation so conceived and so dedicated\n",
        "    can long endure. We are met on a great battle-field of that war.\n",
        "    We have come to dedicate a portion of that field, as a final\n",
        "    resting place for those who here gave their lives that that\n",
        "    nation might live. It is altogether fitting and proper that we\n",
        "    should do this. But, in a larger sense, we can not dedicate—we\n",
        "    can not consecrate—we can not hallow—this ground. The brave men,\n",
        "     living and dead, who struggled here, have consecrated it, far\n",
        "     above our poor power to add or detract. The world will little\n",
        "     note, nor long remember what we say here, but it can never forget\n",
        "     what they did here. It is for us the living, rather, to be dedicated\n",
        "     here to the unfinished work which they who fought here have thus far\n",
        "     so nobly advanced. It is rather for us to be here dedicated to the\n",
        "     great task remaining before us—that from these honored dead we take\n",
        "     increased devotion to that cause for which they gave the last full\n",
        "     measure of devotion— that we here highly resolve that these dead\n",
        "     shall not have died in vain—that this nation, under God, shall have\n",
        "     a new birth of freedom—and that government of the people, by the\n",
        "     people, for the people, shall not perish from the earth.\n",
        "'''\n",
        "vowels = ['a', 'e', 'i', 'o', 'u', 'A', 'E', 'I', 'O', 'U']\n",
        "counter = 0\n",
        "for char in text:\n",
        "  if char in vowels:\n",
        "    counter += 1\n",
        "print(counter)"
      ]
    },
    {
      "cell_type": "markdown",
      "source": [
        "# 2. Simplifying code\n",
        "**Take a look at this snippet of Python:**\n",
        "\n",
        "\n",
        "```\n",
        "for i in range(100):\n",
        "    if (3 * i) % 2 == 1:\n",
        "        if (2 * i) % 3 == 0:\n",
        "            print(i)\n",
        "```\n",
        "\n",
        "\n",
        "### Flatten and otherwise simplify it using and , or , or Boolean coercion as needed. Write your simplified version in a code-cell."
      ],
      "metadata": {
        "id": "NXDIUX3DPkqS"
      }
    },
    {
      "cell_type": "code",
      "source": [
        "for i in range(100):\n",
        "  if (3 * i) % 2 == 1 and (2 * i) % 3 == 0:\n",
        "    print(i)"
      ],
      "metadata": {
        "colab": {
          "base_uri": "https://localhost:8080/"
        },
        "id": "zc3qW0X0QBSN",
        "outputId": "25267c4e-ae6a-486b-c3a3-978c3df9f161"
      },
      "execution_count": null,
      "outputs": [
        {
          "output_type": "stream",
          "name": "stdout",
          "text": [
            "3\n",
            "9\n",
            "15\n",
            "21\n",
            "27\n",
            "33\n",
            "39\n",
            "45\n",
            "51\n",
            "57\n",
            "63\n",
            "69\n",
            "75\n",
            "81\n",
            "87\n",
            "93\n",
            "99\n"
          ]
        }
      ]
    },
    {
      "cell_type": "markdown",
      "source": [
        "# 3. Initials (version 1)\n",
        "**Write a snippet which computes your initials from your name(s). It should work as follows:**\n",
        "1. Make **separate string variables containing your first and last names** (and your middle name if you have one.)\n",
        "2. Then, use string indexing to extract the initials from the variables defined in (1), concatenate them, and print the result."
      ],
      "metadata": {
        "id": "Kr5_Uc9sRYA6"
      }
    },
    {
      "cell_type": "code",
      "source": [
        "first = 'Hyojin'\n",
        "last = 'Yoo'\n",
        "\n",
        "print(first[0] + last[0])"
      ],
      "metadata": {
        "colab": {
          "base_uri": "https://localhost:8080/"
        },
        "id": "q-52hrOORov_",
        "outputId": "a0c6c0a5-936f-433f-e02c-5aba2d8efa3f"
      },
      "execution_count": null,
      "outputs": [
        {
          "output_type": "stream",
          "name": "stdout",
          "text": [
            "HY\n"
          ]
        }
      ]
    },
    {
      "cell_type": "markdown",
      "source": [
        "# 4. Initials (version 2)\n",
        "Write a function called get_initials which takes one string as input, and returns a string containing the “Initials” in that string. That is, a string containing the first letter of every space- delimited word. In one code-cell write your function. Then in a separate code-cell test out your function by calling it with some input and printing out the result.\n",
        "\n",
        "**Here is an example of calling the function and printing the result:**\n",
        "\n",
        "\n",
        "```\n",
        " >>> initialized_string = get_initials(\"What you see is what you get\")\n",
        " >>> print(initialized_string)\n",
        "     \"Wysiwyg\"\n",
        "```\n",
        "\n",
        "\n",
        "> ### Some hints\n",
        "**Later in the semester we'll see a much simpler way to solve this, but for now you can do the following:**\n",
        "1. Create an accumulator string which will store your result\n",
        "2. Use a for loop to iterate over the indices in your string. Each time you find the space- character at a particular index, you know you’ll want to add the next character to your accumulator string (assuming you haven’t already reached the end of the original string course!)\n",
        "3. You'll need to have a line or two of code before the loop to handle extracting the very first initial\n",
        "4. Make sure your function works even if it is called with an argument which contains no- spaces (or the empty string)\n",
        "\n",
        "\n"
      ],
      "metadata": {
        "id": "L__ZbD15Tidn"
      }
    },
    {
      "cell_type": "code",
      "source": [
        "def get_initials(input_string: \"str\"):\n",
        "  #initials = '' if not input_string else input_string[0]\n",
        "  if not input_string:\n",
        "    return ''\n",
        "  initials = input_string[0]\n",
        "\n",
        "  for i in range(len(input_string)):\n",
        "    if (input_string[i] == ' ' and\n",
        "        i + 1 < len(input_string)):\n",
        "      initials += input_string[i+1]\n",
        "  return initials\n",
        "\n",
        "# Test the function\n",
        "print(get_initials('What you see is what you get'))\n",
        "print(get_initials(' '))\n",
        "print(get_initials(''))"
      ],
      "metadata": {
        "colab": {
          "base_uri": "https://localhost:8080/"
        },
        "id": "B3PACgajUXfM",
        "outputId": "e58de1c1-3f38-4f44-ea84-ebbff5d2a594"
      },
      "execution_count": null,
      "outputs": [
        {
          "output_type": "stream",
          "name": "stdout",
          "text": [
            "Wysiwyg\n",
            " \n",
            "\n"
          ]
        }
      ]
    },
    {
      "cell_type": "markdown",
      "source": [
        "# 5. Reflection\n",
        "It took an hour for me to finish the assignment and I spent time thinking about if reducing line of code is better then legibility of code. For example, in case of *4. Inichials (version 2)* problem I was able to reduce two line by using tenary statement. But to me using `if` statement had better readablity becuase it's clarity. Though in our assignment wouln't make diffrenct to have 2 or more line in a function but would it become something to consider when writing complex code?\n",
        "\n",
        "I also learned that using range(0) in a for loop results in the loop not running, as range(0) produces an empty range with no numbers to iterate over.\n",
        "\n",
        "\n",
        "\n",
        "```\n",
        "for i in range(0):\n",
        "    print(i)\n",
        "```\n",
        "\n"
      ],
      "metadata": {
        "id": "q1aP6SoDUYQs"
      }
    }
  ]
}