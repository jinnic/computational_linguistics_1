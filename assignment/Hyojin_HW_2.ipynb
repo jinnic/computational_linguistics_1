{
  "nbformat": 4,
  "nbformat_minor": 0,
  "metadata": {
    "colab": {
      "provenance": [],
      "authorship_tag": "ABX9TyO0/U8fRWApWquKSSYyMapO",
      "include_colab_link": true
    },
    "kernelspec": {
      "name": "python3",
      "display_name": "Python 3"
    },
    "language_info": {
      "name": "python"
    }
  },
  "cells": [
    {
      "cell_type": "markdown",
      "source": [
        "# **Control Flow: conditionals and loops**\n",
        "##**1. vowels = space + time**\n",
        "The conditional expression x in y where x and y are strings evaluates to True if x is a sub-string of y , and   otherwise. For example:\n",
        "\n",
        "\n",
        "```\n",
        ">>>\"ook\" in \"Brooklyn\"\n",
        " True\n",
        ">>> \"i\" in \"Queens\"\n",
        " False\n",
        ">>> \"nh\" in \"Manhattan\"\n",
        " True\n",
        ">>> \"CY\" in \"CUNY\"\n",
        " False\n",
        "```\n",
        "\n",
        "In a Python cell,\n",
        "\n",
        "* Define a list variable which contains the names of the five boroughs (written in lowercase, for simplicity),\n",
        "* Define a list variable which contains the five orthographic vowels {a, e, i, o, u}.\n",
        "* Use two for nested loops:\n",
        "    * one over the five boroughs, one over the five vowels.\n",
        "    * If that vowel is present in the name of the borough\n",
        "        * then print something which indicates this.\n",
        "    * If the vowel is not present in the name of the borough,\n",
        "        * then do not print anything.\n",
        "\n",
        "\n",
        "> **Some hints:** Your cell should print something like `there is an o in brooklyn` and `there is an i in staten island` , but not `there is an i in queens`(because there isn’t).\n",
        "\n",
        "\n"
      ],
      "metadata": {
        "id": "BwK_4EvM2P5o"
      }
    },
    {
      "cell_type": "code",
      "source": [
        "boroughs = [\"brooklyn\", \"queens\", \"manhattan\", \"staten island\", \"bronx\"]\n",
        "vowels = [\"a\", \"e\", \"i\", \"o\", \"u\"]\n",
        "unique_vowels_count = 0\n",
        "\n",
        "for borough in boroughs:\n",
        "    #print(\"Current borough is: \", borough)\n",
        "    for vowel in vowels:\n",
        "        #print(\"\\tWe are checking vowel - \", vowel)\n",
        "        if vowel in borough:\n",
        "            unique_vowels_count += 1\n",
        "            print(f\"\\t\\tThere is a '{vowel}' in {borough}\")\n",
        "    #print(f\"Total count of uniqe vowels in {borough} is: {unique_vowels_count}\\n\")\n",
        "    unique_vowels_count = 0"
      ],
      "metadata": {
        "colab": {
          "base_uri": "https://localhost:8080/"
        },
        "id": "xuKhD6AF4UyM",
        "outputId": "8c2de3cc-4ea1-4549-80d6-89d0d3b6ba12"
      },
      "execution_count": null,
      "outputs": [
        {
          "output_type": "stream",
          "name": "stdout",
          "text": [
            "\t\tThere is a 'o' in brooklyn\n",
            "\t\tThere is a 'e' in queens\n",
            "\t\tThere is a 'u' in queens\n",
            "\t\tThere is a 'a' in manhattan\n",
            "\t\tThere is a 'a' in staten island\n",
            "\t\tThere is a 'e' in staten island\n",
            "\t\tThere is a 'i' in staten island\n",
            "\t\tThere is a 'o' in bronx\n"
          ]
        }
      ]
    },
    {
      "cell_type": "markdown",
      "source": [
        "#**2. Cool numbers**\n",
        "\n",
        "##Let us say that a counting number (i.e., **a positive integer greater than 0**) is **a cool number if it is the cube of some other number**. In a Python cell, write a Python snippet that computes and prints the cool numbers **up to 1,000 (exclusive)**. You will want to use a `for` loop and `range`.\n",
        "\n",
        "\n",
        "\n",
        "> **Some hints:**\n",
        "* One can compute the cube of a number using `x ** 3` or `x * x * x`\n",
        "* Remember that `10 x 10 x 10 = 1,000`. Thus, you do not need to consider any `x >= 10`. This gives you an upper bound for your range expression.\n",
        "\n",
        "> **Testing**: You can verify the correctness of your solution with the following facts: • 0 is not a cool number.\n",
        "* There are 9 cool numbers under 1,000.\n",
        "* The smallest cool number is 1(=1x1x1).\n",
        "* The second smallest cool number is 8=(=2x2x2).\n",
        "* The largest cool number under 1,000 is 729 (= 9 x 9 x 9).\n",
        "* 1,000 is a cool number, of course, but your solution should not print it (since that’s the way that I’ve written the above instructions).\n",
        "\n",
        "\n"
      ],
      "metadata": {
        "id": "SaHpqjFG7LeH"
      }
    },
    {
      "cell_type": "code",
      "source": [
        "def cool_numbers():\n",
        "    print(\"Cool numbers are: \")\n",
        "    for num in range(1, 10):\n",
        "        print( num ** 3)\n",
        "\n",
        "cool_numbers()\n",
        "\n",
        "#n = 1\n",
        "#while n ** 3 < 1000:\n",
        "    #print(n ** 3)\n",
        "    #n+=1\n"
      ],
      "metadata": {
        "colab": {
          "base_uri": "https://localhost:8080/"
        },
        "id": "WzePr0Q-95vb",
        "outputId": "a9ba61a9-444a-4c4e-d1e1-4dcb79c9ba48"
      },
      "execution_count": null,
      "outputs": [
        {
          "output_type": "stream",
          "name": "stdout",
          "text": [
            "Cool numbers are: \n",
            "1\n",
            "8\n",
            "27\n",
            "64\n",
            "125\n",
            "216\n",
            "343\n",
            "512\n",
            "729\n"
          ]
        }
      ]
    },
    {
      "cell_type": "markdown",
      "source": [
        "#**3. Hip numbers**\n",
        "## Let’s say that a counting number is a “hip number” if and **only if it is the sum of two different cool numbers**. Write a python snippet that computes and prints the hip numbers up to 1,000 (exclusive).\n",
        "\n",
        "> **Some hints:**\n",
        "* There are a couple different ways one might solve this problem. The most intuitive one, in my opinion, involves trying to all the possible sum-combinations of cool numbers under 1,000 and filtering out the resulting hip numbers which are too large (greater than or equal to 1,000)."
      ],
      "metadata": {
        "id": "_Y6qDE8G_2rq"
      }
    },
    {
      "cell_type": "code",
      "source": [
        "cool_numbers = []\n",
        "def get_cool_numbers():\n",
        "    print(\"Cool numbers are: \")\n",
        "    for num in range(1, 10):\n",
        "        cool_numbers.append( num ** 3)\n",
        "\n",
        "get_cool_numbers()\n",
        "print(cool_numbers)\n",
        "\n",
        "hip_numbers = []\n",
        "\n",
        "for i in range(len(cool_numbers)):\n",
        "    for j in range(i+1, len(cool_numbers)):\n",
        "        if cool_numbers[i] + cool_numbers[j] < 1000:\n",
        "            hip_numbers.append(cool_numbers[i] + cool_numbers[j])\n",
        "            print(f\"{cool_numbers[i]} + {cool_numbers[j]} = {cool_numbers[i] + cool_numbers[j]}\")\n",
        "\n",
        "print(\"Total count of hip numbers are - \", len(hip_numbers))"
      ],
      "metadata": {
        "colab": {
          "base_uri": "https://localhost:8080/"
        },
        "id": "r9wkg-CsAwhw",
        "outputId": "76b78cdb-3f90-4800-df03-a56827263e3e"
      },
      "execution_count": null,
      "outputs": [
        {
          "output_type": "stream",
          "name": "stdout",
          "text": [
            "Cool numbers are: \n",
            "[1, 8, 27, 64, 125, 216, 343, 512, 729]\n",
            "1 + 8 = 9\n",
            "1 + 27 = 28\n",
            "1 + 64 = 65\n",
            "1 + 125 = 126\n",
            "1 + 216 = 217\n",
            "1 + 343 = 344\n",
            "1 + 512 = 513\n",
            "1 + 729 = 730\n",
            "8 + 27 = 35\n",
            "8 + 64 = 72\n",
            "8 + 125 = 133\n",
            "8 + 216 = 224\n",
            "8 + 343 = 351\n",
            "8 + 512 = 520\n",
            "8 + 729 = 737\n",
            "27 + 64 = 91\n",
            "27 + 125 = 152\n",
            "27 + 216 = 243\n",
            "27 + 343 = 370\n",
            "27 + 512 = 539\n",
            "27 + 729 = 756\n",
            "64 + 125 = 189\n",
            "64 + 216 = 280\n",
            "64 + 343 = 407\n",
            "64 + 512 = 576\n",
            "64 + 729 = 793\n",
            "125 + 216 = 341\n",
            "125 + 343 = 468\n",
            "125 + 512 = 637\n",
            "125 + 729 = 854\n",
            "216 + 343 = 559\n",
            "216 + 512 = 728\n",
            "216 + 729 = 945\n",
            "343 + 512 = 855\n",
            "Total count of hip numbers are -  34\n"
          ]
        }
      ]
    },
    {
      "cell_type": "markdown",
      "source": [
        "#**4. Girl Scout Cookies**\n",
        "## Every year, the Girl Scouts of America sell Girl Scout Cookies. Your neighbor, Olivia, is selling them for $4 a box and would like to know how much money she should have after a successful afternoon canvassing the neighborhood.\n",
        "\n",
        "* Write a function called `cookies()` which **keeps track of how many cookies Olivia sells** to her neighbors.\n",
        "* The function should allow the user (presumably Olivia in this case) to:\n",
        "    * specify how many people she tried to sell cookies to and then,\n",
        "        * for each person, specify how many boxes of cookies they bought.\n",
        "* After entering all the data, the function should **print out how many boxes Olivia sold in total, how many boxes each neighbor bought on average, and how much total money she should have**.\n",
        "\n",
        "An example of calling the function is shown below.\n",
        "\n",
        "```\n",
        "$ python3 cookies.py\n",
        "How many houses did you visit? 5\n",
        "\n",
        "Neighbor 1\n",
        "How many boxes did they buy? 8\n",
        "\n",
        "Neighbor 2\n",
        "How many boxes did they buy? 2\n",
        "\n",
        "Neighbor 3\n",
        "How many boxes did they buy? 0\n",
        "\n",
        "Neighbor 4\n",
        "How many boxes did they buy? 1\n",
        "\n",
        "Neighbor 5\n",
        "How many boxes did they buy? 3\n",
        "\n",
        "You visited 5 houses.\n",
        "You sold 14 boxes of cookies.\n",
        "Each house bought 2.8 boxes on average.\n",
        "You should have 56 dollars.\n",
        "```\n",
        "\n",
        ">**Some hints**: Your function should have the following features/steps:\n",
        "* Ask Olivia for the number of houses she visited.\n",
        "* For each house, ask for the number of boxes of cookies she sold.\n",
        "* When all of the data is entered, print out the total number of boxes sold, the average number of boxes bought by each neighbor, and the total amount of money Olivia should have.\n",
        "* You can simply assume that each value input by the user will be a non-negative integer (and it’s fine if the function crashes when that assumption is violated, e.g. if the user enters some non-numeric string)\n",
        "* Be sure to include a couple if statements to properly display the plural/singular mor- phology of the final answers (e.g. “1 box” vs. “2 boxes”)."
      ],
      "metadata": {
        "id": "V1k6r8VOCzjK"
      }
    },
    {
      "cell_type": "code",
      "source": [
        "def cookies():\n",
        "    price = 4\n",
        "    total_houses = int(input(\"How many houses did you visit? \"))\n",
        "    boxes_sold = []\n",
        "    for house in range(1, total_houses+1):\n",
        "        print(f\"\\nNeighbor {house}\")\n",
        "        boxes_sold.append(int(input(f\"How many boxes did they buy? \")))\n",
        "    #print(f\"boxes_sold = {boxes_sold}\")\n",
        "\n",
        "    if total_houses == 1:\n",
        "        print(f\"\\nYou visited {total_houses} house.\")\n",
        "    else:\n",
        "        print(f\"\\nYou visited {total_houses} houses.\")\n",
        "\n",
        "    if sum(boxes_sold) == 1:\n",
        "        print(f\"You sold {sum(boxes_sold)} box of cookies.\")\n",
        "    else:\n",
        "        print(f\"You sold {sum(boxes_sold)} boxes of cookies.\")\n",
        "\n",
        "    #to prevent ZeroDivisionError\n",
        "    if sum(boxes_sold) == 0 or total_houses == 0:\n",
        "        print(f\"Each house bought 0 box on average.\")\n",
        "    elif sum(boxes_sold)/total_houses == 1:\n",
        "        print(f\"Each house bought {sum(boxes_sold)/total_houses} box on average.\")\n",
        "    else:\n",
        "        print(f\"Each house bought {sum(boxes_sold)/total_houses} boxes on average.\")\n",
        "\n",
        "    if sum(boxes_sold) * price == 1:\n",
        "        print(f\"You should have {sum(boxes_sold) * price} dollar.\")\n",
        "    else:\n",
        "        print(f\"You should have {sum(boxes_sold) * price} dollars.\")\n",
        "\n",
        "cookies()\n"
      ],
      "metadata": {
        "colab": {
          "base_uri": "https://localhost:8080/"
        },
        "id": "JfN2x16FElva",
        "outputId": "160c6d97-1f5c-4079-9364-ab886219dbd8"
      },
      "execution_count": null,
      "outputs": [
        {
          "output_type": "stream",
          "name": "stdout",
          "text": [
            "How many houses did you visit? 0\n",
            "\n",
            "You visited 0 houses.\n",
            "You sold 0 boxes of cookies.\n",
            "Each house bought 0 box on average.\n",
            "You should have 0 dollars.\n"
          ]
        }
      ]
    },
    {
      "cell_type": "markdown",
      "source": [
        "#**5. Reflection**\n",
        "\n",
        "This homework was more involved than the first one. For question #1, I initially wasn’t sure what the question was asking me to do. However, looking at the example return result helped me understand. I also found it helpful to rearrange your questions into the form of code to better figure out the structure.\n",
        "\n",
        "For question #2, I experimented with a `while` loop, thinking that instead of calculating the range of numbers myself, I could make the computer do it for me. This worked, but I wasn’t able to apply the same logic to question #3 for the \"Hip number.\"\n",
        "\n",
        "I found Python's f-strings useful for interpolation, and since I have experience with JavaScript, I was looking for a cleaner way to write `print()` statements.\n",
        "\n",
        "For the last challenge (#4), I found it—and still find it—confusing to properly use plural/singular forms. When should they be singular? Is it only when the number equals \"1,\" or are numbers between 0 and 1 considered singular as well? This distinction has been tricky for me. Thank you for clarifying over the email that 1 is only when the singular form is used.\n",
        "\n",
        "Additionally, it was interesting to learn that Python can multiply by 0 but not divide by 0, which results in a 'ZeroDivisionError.' Overall, I’m getting used to Python syntax and learning markup language through Colab.\n",
        "\n"
      ],
      "metadata": {
        "id": "SzMI6Cp4I8ON"
      }
    }
  ]
}
